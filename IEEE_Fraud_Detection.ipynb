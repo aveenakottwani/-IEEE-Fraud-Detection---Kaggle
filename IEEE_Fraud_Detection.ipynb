{
  "nbformat": 4,
  "nbformat_minor": 0,
  "metadata": {
    "kernelspec": {
      "display_name": "Python 3",
      "language": "python",
      "name": "python3"
    },
    "language_info": {
      "codemirror_mode": {
        "name": "ipython",
        "version": 3
      },
      "file_extension": ".py",
      "mimetype": "text/x-python",
      "name": "python",
      "nbconvert_exporter": "python",
      "pygments_lexer": "ipython3",
      "version": "3.7.4"
    },
    "colab": {
      "name": "CSE519 HW2 Template.ipynb",
      "provenance": [],
      "collapsed_sections": []
    }
  },
  "cells": [
    {
      "cell_type": "markdown",
      "metadata": {
        "id": "3FdYOYyeOsHA",
        "colab_type": "text"
      },
      "source": [
        "# Homework 2 - IEEE Fraud Detection"
      ]
    },
    {
      "cell_type": "markdown",
      "metadata": {
        "id": "autbVu-jOsHC",
        "colab_type": "text"
      },
      "source": [
        "For all parts below, answer all parts as shown in the Google document for Homework 2. Be sure to include both code that justifies your answer as well as text to answer the questions. We also ask that code be commented to make it easier to follow."
      ]
    },
    {
      "cell_type": "markdown",
      "metadata": {
        "id": "vMY4kUcPOsHD",
        "colab_type": "text"
      },
      "source": [
        "## Part 1 - Fraudulent vs Non-Fraudulent Transaction"
      ]
    },
    {
      "cell_type": "code",
      "metadata": {
        "id": "h-Bk_kZLOsHE",
        "colab_type": "code",
        "outputId": "b719397a-45a4-4a37-cb64-c7cb37842467",
        "colab": {
          "base_uri": "https://localhost:8080/",
          "height": 34
        }
      },
      "source": [
        "# TODO: code and runtime results\n",
        "# import pandas as pd\n",
        "import pandas as pd\n",
        "import numpy as np\n",
        "import seaborn as sns\n",
        "import matplotlib.pyplot as plt\n",
        "from scipy import stats\n",
        "\n",
        "import warnings\n",
        "warnings.filterwarnings(\"ignore\")\n",
        "\n",
        "\n",
        "from google.colab import drive\n",
        "drive.mount('/content/drive', force_remount=True)\n",
        "\n",
        "trainidentity = pd.read_csv(\"/content/drive/My Drive/train_identity.csv\") \n",
        "train_transaction = pd.read_csv(\"/content/drive/My Drive//train_transaction.csv\")"
      ],
      "execution_count": 2,
      "outputs": [
        {
          "output_type": "stream",
          "text": [
            "Mounted at /content/drive\n"
          ],
          "name": "stdout"
        }
      ]
    },
    {
      "cell_type": "code",
      "metadata": {
        "id": "nQo02hDKPFYU",
        "colab_type": "code",
        "outputId": "069d1162-92f0-4bbb-80bf-8ac8a938a40a",
        "colab": {
          "base_uri": "https://localhost:8080/",
          "height": 414
        }
      },
      "source": [
        "transactions=pd.merge( train_transaction,trainidentity, on='TransactionID', how='left')\n",
        "transactions.head()\n",
        "\n",
        "\n",
        "question1data=transactions[['TransactionID','DeviceType','DeviceInfo','TransactionDT','TransactionAmt','ProductCD','card4','card6','P_emaildomain','R_emaildomain','addr1','addr2','dist1','dist2']]\n",
        "question1data.head()\n",
        "\n",
        "\n",
        "\n",
        "question1data_isFraud=transactions[['TransactionID','DeviceType','DeviceInfo','isFraud','TransactionDT','TransactionAmt','ProductCD','card4','card6','P_emaildomain','R_emaildomain','addr1','addr2','dist1','dist2']]\n",
        "\n",
        "\n",
        "##Get Fraud and Non-fraud data\n",
        "question1data_fraud=question1data_isFraud.loc[question1data_isFraud['isFraud'] == 1]\n",
        "question1data_Nfraud=question1data_isFraud.loc[question1data_isFraud['isFraud'] == 0]\n",
        "\n",
        "question1data_fraud['DeviceType'].value_counts().plot(kind='bar' , figsize=(7, 6), rot=0)\n",
        "                                                                                                  \n",
        "plt.title(\"Device for fraud transaction\")\n",
        "                       \n",
        "plt.xlabel(\"Device\", labelpad=14)\n",
        "plt.ylabel(\"Count of Transactions on device\", labelpad=14)\n",
        "plt.show()\n"
      ],
      "execution_count": 3,
      "outputs": [
        {
          "output_type": "display_data",
          "data": {
            "image/png": "[encoded data removed]",
            "text/plain": [
              "<Figure size 504x432 with 1 Axes>"
            ]
          },
          "metadata": {
            "tags": []
          }
        }
      ]
    },
    {
      "cell_type": "code",
      "metadata": {
        "id": "5dBzu0NOQ3oO",
        "colab_type": "code",
        "outputId": "2118b221-f1f0-4555-9a23-93f129d22574",
        "colab": {
          "base_uri": "https://localhost:8080/",
          "height": 414
        }
      },
      "source": [
        "question1data_Nfraud['DeviceType'].value_counts().plot(kind='bar' , figsize=(7, 6), rot=0)\n",
        "                                                                                                  \n",
        "plt.title(\"Device for non-fraud transaction \")\n",
        "                               \n",
        "plt.xlabel(\"Device\", labelpad=14)\n",
        "plt.ylabel(\"Count of Transactions on device\", labelpad=14)\n",
        "plt.show()"
      ],
      "execution_count": 7,
      "outputs": [
        {
          "output_type": "display_data",
          "data": {
            "image/png": "[encoded data removed]",
            "text/plain": [
              "<Figure size 504x432 with 1 Axes>"
            ]
          },
          "metadata": {
            "tags": []
          }
        }
      ]
    },
    {
      "cell_type": "markdown",
      "metadata": {
        "id": "HdQMSzGNOsHH",
        "colab_type": "text"
      },
      "source": [
        "Here we see that for fraud transactions, mobile devices were utilised more than the destops. There are difference between the non fraud and fraud transactions as seen in these graphs."
      ]
    },
    {
      "cell_type": "code",
      "metadata": {
        "id": "JoDea0ofSqI7",
        "colab_type": "code",
        "outputId": "5347a3cb-84f9-4546-e792-b4bfdee8897d",
        "colab": {
          "base_uri": "https://localhost:8080/",
          "height": 408
        }
      },
      "source": [
        "card4=question1data_fraud['card4']\n",
        "card4.value_counts()\n",
        "question1data_fraud['card4'].value_counts().plot(kind='bar' , figsize=(7, 6), rot=0);\n",
        "plt.title(\"Card for fraud transaction \")\n"
      ],
      "execution_count": 8,
      "outputs": [
        {
          "output_type": "execute_result",
          "data": {
            "text/plain": [
              "Text(0.5, 1.0, 'Card for fraud transaction ')"
            ]
          },
          "metadata": {
            "tags": []
          },
          "execution_count": 8
        },
        {
          "output_type": "display_data",
          "data": {
            "image/png": "[encoded data removed]",
            "text/plain": [
              "<Figure size 504x432 with 1 Axes>"
            ]
          },
          "metadata": {
            "tags": []
          }
        }
      ]
    },
    {
      "cell_type": "code",
      "metadata": {
        "id": "2FU3BRjlStDt",
        "colab_type": "code",
        "outputId": "bbc89148-b90d-4ab9-cd5e-17185a6ff131",
        "colab": {
          "base_uri": "https://localhost:8080/",
          "height": 408
        }
      },
      "source": [
        "\n",
        "question1data_Nfraud['card4'].value_counts().plot(kind='bar' , figsize=(7, 6), rot=0);\n",
        "plt.title(\"Card for non-fraud transaction \")\n"
      ],
      "execution_count": 10,
      "outputs": [
        {
          "output_type": "execute_result",
          "data": {
            "text/plain": [
              "Text(0.5, 1.0, 'Card for non-fraud transaction ')"
            ]
          },
          "metadata": {
            "tags": []
          },
          "execution_count": 10
        },
        {
          "output_type": "display_data",
          "data": {
            "image/png": "[encoded data removed]",
            "text/plain": [
              "<Figure size 504x432 with 1 Axes>"
            ]
          },
          "metadata": {
            "tags": []
          }
        }
      ]
    },
    {
      "cell_type": "markdown",
      "metadata": {
        "id": "SCUNZc9iS7bh",
        "colab_type": "text"
      },
      "source": [
        "We also observe that the fraud transactions are more on the more used card which is visa. Both type of transactions are done more on visa cards , so they are most likely to be seen in fraud transactions"
      ]
    },
    {
      "cell_type": "code",
      "metadata": {
        "id": "QPXI7bSWhuTs",
        "colab_type": "code",
        "outputId": "174f1fa8-3935-45cf-c09e-8305e9d1a7a7",
        "colab": {
          "base_uri": "https://localhost:8080/",
          "height": 288
        }
      },
      "source": [
        "ax = sns.countplot(x=\"R_emaildomain\", data=question1data_fraud)\n",
        "plt.gca().axes.get_xaxis().set_visible(False)\n",
        "plt.xlabel(\"R_emaildomain\", labelpad=14)\n",
        "plt.title(\"R_emaildomain for fraud transactions\")"
      ],
      "execution_count": 11,
      "outputs": [
        {
          "output_type": "execute_result",
          "data": {
            "text/plain": [
              "Text(0.5, 1.0, 'R_emaildomain for fraud transactions')"
            ]
          },
          "metadata": {
            "tags": []
          },
          "execution_count": 11
        },
        {
          "output_type": "display_data",
          "data": {
            "image/png": "[encoded data removed]",
            "text/plain": [
              "<Figure size 432x288 with 1 Axes>"
            ]
          },
          "metadata": {
            "tags": []
          }
        }
      ]
    },
    {
      "cell_type": "markdown",
      "metadata": {
        "id": "N68D_omFhzmV",
        "colab_type": "text"
      },
      "source": [
        "R-Domain has max utilization of gmail.com domain for fraud transactions"
      ]
    },
    {
      "cell_type": "markdown",
      "metadata": {
        "id": "GQS-l3WAOsHI",
        "colab_type": "text"
      },
      "source": [
        "## Part 2 - Transaction Frequency"
      ]
    },
    {
      "cell_type": "code",
      "metadata": {
        "id": "F92eWoVhOsHJ",
        "colab_type": "code",
        "outputId": "81efd5fc-dfd3-4dd9-f493-12f22a16ef42",
        "colab": {
          "base_uri": "https://localhost:8080/",
          "height": 326
        }
      },
      "source": [
        "# TODO: code to generate the frequency graph\n",
        "\n",
        "addr2=question1data_fraud[['addr2']]\n",
        "addr2.head()\n",
        "\n",
        "\n",
        "## Get the frequency of the most frequent  country code\n",
        "addr2.head()\n",
        "count_classes = pd.value_counts(addr2['addr2'], sort = True).sort_index()\n",
        "count_classes.plot(kind = 'bar')\n",
        "plt.title(\"addr2 class histogram\")\n",
        "plt.xlabel(\"addr2\")\n",
        "plt.ylabel(\"Frequency\")\n",
        "\n"
      ],
      "execution_count": 13,
      "outputs": [
        {
          "output_type": "execute_result",
          "data": {
            "text/plain": [
              "Text(0, 0.5, 'Frequency')"
            ]
          },
          "metadata": {
            "tags": []
          },
          "execution_count": 13
        },
        {
          "output_type": "display_data",
          "data": {
            "image/png": "[encoded data removed]",
            "text/plain": [
              "<Figure size 432x288 with 1 Axes>"
            ]
          },
          "metadata": {
            "tags": []
          }
        }
      ]
    },
    {
      "cell_type": "code",
      "metadata": {
        "id": "slwuhf3OTtWP",
        "colab_type": "code",
        "outputId": "dc1cfcd5-4910-4f83-9d92-f749ec3f744d",
        "colab": {
          "base_uri": "https://localhost:8080/",
          "height": 530
        }
      },
      "source": [
        "## Get the most frequent country code\n",
        "\n",
        "max=addr2['addr2'].value_counts()[addr2['addr2'].value_counts() == addr2['addr2'].value_counts().max()]\n",
        "\n",
        "maxdf=pd.DataFrame(max)\n",
        "frequentofCountryCode=maxdf.iloc[0][0]\n",
        "\n",
        "mostFrequentCountryCode=maxdf.index.values\n",
        "\n",
        "##Get TransactionDT where addr2=mostFrequentCountryCode\n",
        "\n",
        "countryTransactionDT=question1data_fraud.loc[question1data_fraud['addr2'] == mostFrequentCountryCode[0]]\n",
        "countryTransactionDT.head()\n",
        "\n",
        "##Get days value\n",
        "days=60* 60*24\n",
        "TransactionDT_days=countryTransactionDT['TransactionDT']/days\n",
        "TransactionDT_daysdf=pd.DataFrame(TransactionDT_days)\n",
        "TransactionDT_daysdf.columns=['TransactionDT']\n",
        "TransactionDT_daysdf['TransactionDT'] = pd.Series([(val) - int(val) for val in TransactionDT_daysdf['TransactionDT']], index = TransactionDT_daysdf.index)\n",
        "\n",
        "##Get the hour of the day\n",
        "TransactionDT_hours=TransactionDT_daysdf['TransactionDT'] * 24\n",
        "\n",
        "\n",
        "\n",
        "TransactionDT_hoursdf=pd.DataFrame(TransactionDT_hours)\n",
        "TransactionDT_hoursdf.columns=['TransactionDT']\n",
        "\n",
        "\n",
        "##Sort values by time of the day\n",
        "TransactionDT_hoursdf = TransactionDT_hoursdf.sort_values(by =['TransactionDT'])\n",
        "\n",
        "plt.figure(figsize=(12,8))\n",
        "\n",
        "TransactionDT_hoursdf.head()\n",
        "TransactionDT_hoursdf['TransactionDT'].hist(bins=23)\n",
        "\n",
        "plt.xlabel('Nth hour of the day')\n",
        "plt.ylabel('Count of Number of transactions')\n",
        "\n",
        "plt.title('Frequency distribution of transactions by time for the most frequent country code')"
      ],
      "execution_count": 14,
      "outputs": [
        {
          "output_type": "execute_result",
          "data": {
            "text/plain": [
              "Text(0.5, 1.0, 'Frequency distribution of transactions by time for the most frequent country code')"
            ]
          },
          "metadata": {
            "tags": []
          },
          "execution_count": 14
        },
        {
          "output_type": "display_data",
          "data": {
            "image/png": "[encoded data removed]",
            "text/plain": [
              "<Figure size 864x576 with 1 Axes>"
            ]
          },
          "metadata": {
            "tags": []
          }
        }
      ]
    },
    {
      "cell_type": "markdown",
      "metadata": {
        "id": "MDLSVdQmOsHO",
        "colab_type": "text"
      },
      "source": [
        "We see that the most fraud transactions for the most frequent country code (87) are happening between 15th and 23rd hour of the day"
      ]
    },
    {
      "cell_type": "markdown",
      "metadata": {
        "id": "3DimtTOMOsHP",
        "colab_type": "text"
      },
      "source": [
        "## Part 3 - Product Code"
      ]
    },
    {
      "cell_type": "code",
      "metadata": {
        "id": "oiKeT_SZOsHR",
        "colab_type": "code",
        "outputId": "d9acb427-bb90-460f-f998-1f68edab48c9",
        "colab": {
          "base_uri": "https://localhost:8080/",
          "height": 314
        }
      },
      "source": [
        "# TODO: code to analyze prices for different product codes\n",
        "\n",
        "\n",
        "##Let us see different products available \n",
        "ProductCD_cost=question1data_fraud[['ProductCD', 'TransactionAmt']]\n",
        "\n",
        "\n",
        "ax = sns.countplot(x='ProductCD', data=ProductCD_cost)\n",
        "plt.title('Frequency Distribution of ProductCD_cost')\n",
        "plt.xlabel('ProductCD_cost')"
      ],
      "execution_count": 15,
      "outputs": [
        {
          "output_type": "execute_result",
          "data": {
            "text/plain": [
              "Text(0.5, 0, 'ProductCD_cost')"
            ]
          },
          "metadata": {
            "tags": []
          },
          "execution_count": 15
        },
        {
          "output_type": "display_data",
          "data": {
            "image/png": "[encoded data removed]",
            "text/plain": [
              "<Figure size 432x288 with 1 Axes>"
            ]
          },
          "metadata": {
            "tags": []
          }
        }
      ]
    },
    {
      "cell_type": "code",
      "metadata": {
        "id": "nJq3s6e8VVch",
        "colab_type": "code",
        "outputId": "1a8f4418-6108-45d8-c89d-bba8fb63f30e",
        "colab": {
          "base_uri": "https://localhost:8080/",
          "height": 281
        }
      },
      "source": [
        "## Caculate the mean of the Transaction Amount for each of the product \n",
        "meanW=ProductCD_cost.loc[ProductCD_cost['ProductCD'] == 'W', 'TransactionAmt'].mean()\n",
        "meanC=ProductCD_cost.loc[ProductCD_cost['ProductCD'] == 'C', 'TransactionAmt'].mean()\n",
        "meanR=ProductCD_cost.loc[ProductCD_cost['ProductCD'] == 'R', 'TransactionAmt'].mean()\n",
        "meanS=ProductCD_cost.loc[ProductCD_cost['ProductCD'] == 'S', 'TransactionAmt'].mean()\n",
        "meanH=ProductCD_cost.loc[ProductCD_cost['ProductCD'] == 'H', 'TransactionAmt'].mean()\n",
        "\n",
        "objects = ('W', 'C', 'R', 'S', 'H')\n",
        "y_pos = np.arange(len(objects))\n",
        "averageAmt = [meanW,meanC,meanR,meanS, meanH]\n",
        "\n",
        "plt.bar(y_pos, averageAmt , align='center', alpha=0.5,color = (0.5,0.1,0.5,0.6))\n",
        "plt.xticks( y_pos,objects)\n",
        "plt.ylabel('Average Amount for the Product')\n",
        "plt.title('Products by Average TransactionAmount ')\n",
        "\n",
        "#ax = sns.barplot(x=objects, y=averageAmt)\n",
        "\n",
        "plt.show()\n"
      ],
      "execution_count": 16,
      "outputs": [
        {
          "output_type": "display_data",
          "data": {
            "image/png": "[encoded data removed]",
            "text/plain": [
              "<Figure size 432x288 with 1 Axes>"
            ]
          },
          "metadata": {
            "tags": []
          }
        }
      ]
    },
    {
      "cell_type": "markdown",
      "metadata": {
        "id": "eXAOKp1uOsHU",
        "colab_type": "text"
      },
      "source": [
        "\n",
        "Here we observe that the most expensive Product is Product R and most cheap product is product C. We took the average of the transaction amounts for each of the product to find the average price of product during a transaction."
      ]
    },
    {
      "cell_type": "markdown",
      "metadata": {
        "id": "exo5J-5VOsHV",
        "colab_type": "text"
      },
      "source": [
        "## Part 4 - Correlation Coefficient"
      ]
    },
    {
      "cell_type": "code",
      "metadata": {
        "id": "URD8ZWshOsHV",
        "colab_type": "code",
        "outputId": "a98bd271-dc38-4c19-a65e-ab27cd9834a4",
        "colab": {
          "base_uri": "https://localhost:8080/",
          "height": 352
        }
      },
      "source": [
        "# TODO: code to calculate correlation coefficient\n",
        "\n",
        "#GEt the hour of each transaction \n",
        "\n",
        "purchaseAmountTime=question1data_fraud[['TransactionDT','TransactionAmt']]\n",
        "purchaseAmountTime['TransactionDT'] = pd.Series([(val)/(60*60*24) for val in purchaseAmountTime['TransactionDT']], index = purchaseAmountTime.index)\n",
        "purchaseAmountTime['TransactionDT'] = pd.Series([(val) - int(val) for val in purchaseAmountTime['TransactionDT']], index = purchaseAmountTime.index)\n",
        "purchaseAmountTime['TransactionDT'] = pd.Series([(val)*24 for val in purchaseAmountTime['TransactionDT']], index = purchaseAmountTime.index)\n",
        "\n",
        "purchaseAmountTime.TransactionDT=purchaseAmountTime.TransactionDT.apply(np.ceil)\n",
        "\n",
        "##Sort each of the transaction\n",
        "sortedTransactionDT_hoursdf=purchaseAmountTime[['TransactionDT']]\n",
        "purchaseAmountTime1=purchaseAmountTime\n",
        "\n",
        "\n",
        "purchaseAmountTime['TransactionAmt']=purchaseAmountTime.groupby(['TransactionDT'])[\"TransactionAmt\"].transform('sum') .reset_index(name='variant')\n",
        "\n",
        "\n",
        "\n",
        "##Plot the transaction\n",
        "\n",
        "plt.style.use('seaborn-whitegrid')\n",
        "plt.scatter(purchaseAmountTime[['TransactionDT']], purchaseAmountTime[['TransactionAmt']], c='DarkBlue', alpha=0.5)\n",
        "plt.show()\n",
        "\n",
        "\n",
        "from numpy import mean\n",
        "from numpy import std\n",
        "from numpy.random import randn\n",
        "from numpy.random import seed\n",
        "from matplotlib import pyplot\n",
        "from scipy.stats import pearsonr\n",
        "\n",
        "\n",
        "purchaseAmountTime.corr(method ='pearson')"
      ],
      "execution_count": 17,
      "outputs": [
        {
          "output_type": "display_data",
          "data": {
            "image/png": "[encoded data removed]",
            "text/plain": [
              "<Figure size 432x288 with 1 Axes>"
            ]
          },
          "metadata": {
            "tags": []
          }
        },
        {
          "output_type": "execute_result",
          "data": {
            "text/html": [
              "<div>\n",
              "<style scoped>\n",
              "    .dataframe tbody tr th:only-of-type {\n",
              "        vertical-align: middle;\n",
              "    }\n",
              "\n",
              "    .dataframe tbody tr th {\n",
              "        vertical-align: top;\n",
              "    }\n",
              "\n",
              "    .dataframe thead th {\n",
              "        text-align: right;\n",
              "    }\n",
              "</style>\n",
              "<table border=\"1\" class=\"dataframe\">\n",
              "  <thead>\n",
              "    <tr style=\"text-align: right;\">\n",
              "      <th></th>\n",
              "      <th>TransactionDT</th>\n",
              "      <th>TransactionAmt</th>\n",
              "    </tr>\n",
              "  </thead>\n",
              "  <tbody>\n",
              "    <tr>\n",
              "      <th>TransactionDT</th>\n",
              "      <td>1.000000</td>\n",
              "      <td>0.083589</td>\n",
              "    </tr>\n",
              "    <tr>\n",
              "      <th>TransactionAmt</th>\n",
              "      <td>0.083589</td>\n",
              "      <td>1.000000</td>\n",
              "    </tr>\n",
              "  </tbody>\n",
              "</table>\n",
              "</div>"
            ],
            "text/plain": [
              "                TransactionDT  TransactionAmt\n",
              "TransactionDT        1.000000        0.083589\n",
              "TransactionAmt       0.083589        1.000000"
            ]
          },
          "metadata": {
            "tags": []
          },
          "execution_count": 17
        }
      ]
    },
    {
      "cell_type": "markdown",
      "metadata": {
        "id": "U3WAWDmtOsHZ",
        "colab_type": "text"
      },
      "source": [
        "Pearson Coefficient is 0.083589. The plot for Transaction Amount and hour of the day is a scatter plot which is dense in the region where number of hours is greater than 15hours."
      ]
    },
    {
      "cell_type": "markdown",
      "metadata": {
        "id": "aH3_DNmvOsHb",
        "colab_type": "text"
      },
      "source": [
        "## Part 5 - Interesting Plot"
      ]
    },
    {
      "cell_type": "code",
      "metadata": {
        "id": "bN6-_1L7cVvU",
        "colab_type": "code",
        "outputId": "303b45cf-a7eb-4eb6-9fc8-6a852da2e6ec",
        "colab": {
          "base_uri": "https://localhost:8080/",
          "height": 276
        }
      },
      "source": [
        "ax = sns.countplot(x=\"ProductCD\", data=question1data_fraud)"
      ],
      "execution_count": 18,
      "outputs": [
        {
          "output_type": "display_data",
          "data": {
            "image/png": "[encoded data removed]",
            "text/plain": [
              "<Figure size 432x288 with 1 Axes>"
            ]
          },
          "metadata": {
            "tags": []
          }
        }
      ]
    },
    {
      "cell_type": "markdown",
      "metadata": {
        "id": "7JfQUgW9OsHf",
        "colab_type": "text"
      },
      "source": [
        "The most product used during the fraud transaction  are  in the following order:\n",
        "\n",
        "\n",
        "1.   W product\n",
        "2.   C product\n",
        "3.   R product\n",
        "4.   S product\n",
        "5.   H product\n",
        "\n",
        "\n",
        "\n",
        "\n",
        "\n",
        "\n"
      ]
    },
    {
      "cell_type": "code",
      "metadata": {
        "id": "wxnCM-XHe4Xx",
        "colab_type": "code",
        "outputId": "f17cc280-4701-424f-a476-7d7fd2c06017",
        "colab": {
          "base_uri": "https://localhost:8080/",
          "height": 272
        }
      },
      "source": [
        "ax = sns.countplot(x=\"P_emaildomain\", data=question1data_fraud)\n",
        "plt.gca().axes.get_xaxis().set_visible(False)\n",
        "plt.xlabel(\"P_emaildomain\", labelpad=14)\n"
      ],
      "execution_count": 19,
      "outputs": [
        {
          "output_type": "execute_result",
          "data": {
            "text/plain": [
              "Text(0.5, 0, 'P_emaildomain')"
            ]
          },
          "metadata": {
            "tags": []
          },
          "execution_count": 19
        },
        {
          "output_type": "display_data",
          "data": {
            "image/png": "[encoded data removed]",
            "text/plain": [
              "<Figure size 432x288 with 1 Axes>"
            ]
          },
          "metadata": {
            "tags": []
          }
        }
      ]
    },
    {
      "cell_type": "markdown",
      "metadata": {
        "id": "fi0X2okBe6-6",
        "colab_type": "text"
      },
      "source": [
        "Most used domain for product domain is gmail as seen in the plot."
      ]
    },
    {
      "cell_type": "markdown",
      "metadata": {
        "id": "ueyGffj3OsHg",
        "colab_type": "text"
      },
      "source": [
        "## Part 6 - Prediction Model"
      ]
    },
    {
      "cell_type": "code",
      "metadata": {
        "id": "uPUBXvBpOsHc",
        "colab_type": "code",
        "colab": {}
      },
      "source": [
        "# TODO: code to generate the plot here.\n",
        "\n",
        "# import pandas as pd\n",
        "import pandas as pd\n",
        "import numpy as np\n",
        "import seaborn as sns\n",
        "import matplotlib.pyplot as plt\n",
        "from scipy import stats\n",
        "from sklearn.metrics import mean_squared_error, r2_score\n",
        "from sklearn.linear_model import LogisticRegression\n",
        "\n",
        "from sklearn.metrics import classification_report\n",
        "from sklearn.metrics import confusion_matrix,precision_recall_curve,auc,roc_auc_score,roc_curve,recall_score,classification_report, precision_score\n",
        "\n",
        "\n",
        "from sklearn.model_selection import train_test_split\n",
        "\n",
        "\n",
        "import warnings\n",
        "warnings.filterwarnings(\"ignore\")\n",
        "\n",
        "## get files\n",
        "train_identity = pd.read_csv(\"/content/drive/My Drive/train_identity.csv\") \n",
        "train_transaction = pd.read_csv(\"/content/drive/My Drive/train_transaction.csv\") \n",
        "test_transaction = pd.read_csv(\"/content/drive/My Drive/test_transaction.csv\") \n",
        "test_identity = pd.read_csv(\"/content/drive/My Drive/test_identity.csv\") \n",
        "\n",
        "##Left outer Merge  identity and transactions for training data\n",
        "transactions=pd.merge( train_transaction,train_identity, on='TransactionID', how='left')\n",
        "transactions_input=transactions[['TransactionID', 'id_01', 'id_02', 'id_03', 'id_04', 'id_05',\n",
        "       'id_06',  'id_09', 'id_10', 'id_11', \n",
        "       'id_13', 'id_14', 'id_15',  'id_17', 'id_18', 'id_19',\n",
        "       'id_20',   'id_29', 'id_30', 'id_31', 'id_32', 'id_33',\n",
        "       'id_34', 'id_35', 'id_36', 'id_37', 'id_38', 'DeviceType',\n",
        "       'DeviceInfo', 'TransactionDT', 'TransactionAmt',\n",
        "       'ProductCD', 'card1', 'card2', 'card3', 'card4', 'card5', 'card6',\n",
        "       'addr1', 'addr2', 'dist2', 'P_emaildomain',\n",
        "       'R_emaildomain']] #,   'D2', 'D3', 'D4','D5', 'D6', 'D7', 'D8', 'D9', 'D10',  'D12', 'D13', 'D14','D15']]\n",
        "\n",
        "transactions_inputY=transactions[['isFraud']]\n",
        "for col_name in transactions_input.columns:\n",
        "    if(transactions_input[col_name].dtype == 'object'):\n",
        "        transactions_input[col_name]= transactions_input[col_name].astype('category')\n",
        "        transactions_input[col_name] = transactions_input[col_name].cat.codes\n",
        "\n",
        "cat_columns = transactions_input.select_dtypes(['category']).columns\n",
        "transactions_input[cat_columns] = transactions_input[cat_columns].apply(lambda x: x.cat.codes)\n",
        "\n",
        "\n",
        "##Left outer Merge  identity and transactions for test data\n",
        "transactions_Test=pd.merge( test_transaction,test_identity, on='TransactionID', how='left')\n",
        "transactionsTest_input=transactions_Test[['TransactionID', 'id_01', 'id_02', 'id_03', 'id_04', 'id_05',\n",
        "       'id_06',  'id_09', 'id_10', 'id_11', \n",
        "       'id_13', 'id_14', 'id_15',  'id_17', 'id_18', 'id_19',\n",
        "       'id_20',   'id_29', 'id_30', 'id_31', 'id_32', 'id_33',\n",
        "       'id_34', 'id_35', 'id_36', 'id_37', 'id_38', 'DeviceType',\n",
        "       'DeviceInfo', 'TransactionDT', 'TransactionAmt',\n",
        "       'ProductCD', 'card1', 'card2', 'card3', 'card4', 'card5', 'card6',\n",
        "       'addr1', 'addr2',  'dist2', 'P_emaildomain',\n",
        "       'R_emaildomain']] #,  'D2', 'D3', 'D4','D5', 'D6', 'D7', 'D8', 'D9', 'D10',  'D12', 'D13', 'D14', 'D15']]\n",
        "\n",
        "for col_name in transactionsTest_input.columns:\n",
        "    if(transactionsTest_input[col_name].dtype == 'object'):\n",
        "        transactionsTest_input[col_name]= transactionsTest_input[col_name].astype('category')\n",
        "        transactionsTest_input[col_name] = transactionsTest_input[col_name].cat.codes\n",
        "\n",
        "cat_columns = transactionsTest_input.select_dtypes(['category']).columns\n",
        "transactionsTest_input[cat_columns] = transactionsTest_input[cat_columns].apply(lambda x: x.cat.codes)\n",
        "\n",
        "##Preprocessing\n",
        "###Fill missing data with the mean\n",
        "##Given the size of the data, and number of missing values we consider the Logistic Regression for classifying\n",
        "transactionsTest_inputX1=transactionsTest_input.fillna(transactionsTest_input.mean())\n",
        "\n",
        "transactions_inputX1=transactions_input.fillna(transactions_input.mean())\n",
        "\n",
        "\n",
        "\n",
        "transactions_inputYT=transactions_inputY.transpose()\n",
        "\n",
        "\n"
      ],
      "execution_count": 0,
      "outputs": []
    },
    {
      "cell_type": "code",
      "metadata": {
        "id": "-bWd65OwqFSV",
        "colab_type": "code",
        "colab": {}
      },
      "source": [
        "from sklearn.linear_model import LogisticRegression\n",
        "\n",
        "from sklearn.metrics import classification_report\n",
        "from sklearn.metrics import confusion_matrix,precision_recall_curve,auc,roc_auc_score,roc_curve,recall_score,classification_report, precision_score\n",
        "\n",
        "\n",
        "##To find accuracy and compare different values of C , we split the training data\n",
        "X_train, X_test, y_train, y_test = train_test_split(transactions_inputX1, transactions_inputY, test_size=0.20, random_state=101)"
      ],
      "execution_count": 0,
      "outputs": []
    },
    {
      "cell_type": "code",
      "metadata": {
        "id": "4EukgNFrgr0s",
        "colab_type": "code",
        "colab": {
          "base_uri": "https://localhost:8080/",
          "height": 105
        },
        "outputId": "03f601d3-a793-4fc5-9694-811a0d39ab3a"
      },
      "source": [
        "from sklearn.linear_model import LogisticRegression\n",
        "\n",
        "from sklearn.metrics import classification_report\n",
        "from sklearn.metrics import confusion_matrix,precision_recall_curve,auc,roc_auc_score,roc_curve,recall_score,classification_report, precision_score\n",
        "\n",
        "\n",
        "logmodel = LogisticRegression(C = 0.001, penalty = 'l1', solver='liblinear')\n",
        "logmodel.fit(X_train,y_train.values.ravel()  )##transactions_inputY.values.ravel())\n"
      ],
      "execution_count": 22,
      "outputs": [
        {
          "output_type": "execute_result",
          "data": {
            "text/plain": [
              "LogisticRegression(C=0.001, class_weight=None, dual=False, fit_intercept=True,\n",
              "                   intercept_scaling=1, l1_ratio=None, max_iter=100,\n",
              "                   multi_class='warn', n_jobs=None, penalty='l1',\n",
              "                   random_state=None, solver='liblinear', tol=0.0001, verbose=0,\n",
              "                   warm_start=False)"
            ]
          },
          "metadata": {
            "tags": []
          },
          "execution_count": 22
        }
      ]
    },
    {
      "cell_type": "code",
      "metadata": {
        "id": "kFxXfqJ1tMcF",
        "colab_type": "code",
        "colab": {
          "base_uri": "https://localhost:8080/",
          "height": 175
        },
        "outputId": "7c5a11a3-5b2e-4d45-b7b9-c33a21383e2f"
      },
      "source": [
        "y_testPredict=logmodel.predict(X_test)\n",
        "\n",
        "\n",
        "print(classification_report(y_test,y_testPredict))"
      ],
      "execution_count": 24,
      "outputs": [
        {
          "output_type": "stream",
          "text": [
            "              precision    recall  f1-score   support\n",
            "\n",
            "           0       0.96      1.00      0.98    113957\n",
            "           1       0.25      0.00      0.00      4151\n",
            "\n",
            "    accuracy                           0.96    118108\n",
            "   macro avg       0.61      0.50      0.49    118108\n",
            "weighted avg       0.94      0.96      0.95    118108\n",
            "\n"
          ],
          "name": "stdout"
        }
      ]
    },
    {
      "cell_type": "code",
      "metadata": {
        "id": "KGZd3m1haOZL",
        "colab_type": "code",
        "colab": {
          "base_uri": "https://localhost:8080/",
          "height": 175
        },
        "outputId": "29fff361-8c93-46de-8f74-ab7bd16f20d6"
      },
      "source": [
        "from sklearn.linear_model import LogisticRegression\n",
        "\n",
        "from sklearn.metrics import classification_report\n",
        "from sklearn.metrics import confusion_matrix,precision_recall_curve,auc,roc_auc_score,roc_curve,recall_score,classification_report, precision_score\n",
        "\n",
        "\n",
        "logmodel = LogisticRegression(C = 0.01, penalty = 'l1', solver='liblinear')\n",
        "logmodel.fit(X_train,y_train.values.ravel()  )##transactions_inputY.values.ravel())\n",
        "y_testPredict=logmodel.predict(X_test)\n",
        "\n",
        "print(classification_report(y_test,y_testPredict))"
      ],
      "execution_count": 25,
      "outputs": [
        {
          "output_type": "stream",
          "text": [
            "              precision    recall  f1-score   support\n",
            "\n",
            "           0       0.97      1.00      0.98    113957\n",
            "           1       0.60      0.01      0.02      4151\n",
            "\n",
            "    accuracy                           0.96    118108\n",
            "   macro avg       0.78      0.51      0.50    118108\n",
            "weighted avg       0.95      0.96      0.95    118108\n",
            "\n"
          ],
          "name": "stdout"
        }
      ]
    },
    {
      "cell_type": "markdown",
      "metadata": {
        "id": "MURWrsFMdtRe",
        "colab_type": "text"
      },
      "source": [
        "After looking at the various values of C, we determine that C=0.01 works best and so model our data on C=0.01 for  Logistic Regression L1 regularzation\n",
        "\n",
        "\n"
      ]
    },
    {
      "cell_type": "code",
      "metadata": {
        "id": "BzuKp4Gral_t",
        "colab_type": "code",
        "colab": {
          "base_uri": "https://localhost:8080/",
          "height": 195
        },
        "outputId": "e5e05d9d-ecbd-4db7-cf80-866e0f75795a"
      },
      "source": [
        "from sklearn.metrics import confusion_matrix,precision_recall_curve,auc,roc_auc_score,roc_curve,recall_score,classification_report, precision_score\n",
        "from sklearn.linear_model import LogisticRegression\n",
        "\n",
        "\n",
        "\n",
        "logmodel = LogisticRegression(C = 0.01, penalty = 'l1', solver='liblinear')\n",
        "logmodel.fit(transactions_inputX1,transactions_inputY.values.ravel()  )##transactions_inputY.values.ravel())\n",
        "testPredict=logmodel.predict(transactionsTest_inputX1)\n",
        "\n",
        "\n",
        "TestPredictions=pd.DataFrame(testPredict,columns=['isFraud'])\n",
        "TestPredictions['isFraud'].value_counts()\n",
        "\n",
        "TransactionID=pd.DataFrame(transactionsTest_input['TransactionID'],columns=['TransactionID'])\n",
        "\n",
        "\n",
        "Predictions=pd.concat([TransactionID,TestPredictions], axis=1 ,ignore_index=True)\n",
        "Predictions.head()\n",
        "\n",
        "\n",
        "\n",
        "Predictions1=pd.DataFrame(Predictions)\n",
        "Predictions1.columns=['TransactionID','isFraud']\n",
        "Predictions1.head()"
      ],
      "execution_count": 26,
      "outputs": [
        {
          "output_type": "execute_result",
          "data": {
            "text/html": [
              "<div>\n",
              "<style scoped>\n",
              "    .dataframe tbody tr th:only-of-type {\n",
              "        vertical-align: middle;\n",
              "    }\n",
              "\n",
              "    .dataframe tbody tr th {\n",
              "        vertical-align: top;\n",
              "    }\n",
              "\n",
              "    .dataframe thead th {\n",
              "        text-align: right;\n",
              "    }\n",
              "</style>\n",
              "<table border=\"1\" class=\"dataframe\">\n",
              "  <thead>\n",
              "    <tr style=\"text-align: right;\">\n",
              "      <th></th>\n",
              "      <th>TransactionID</th>\n",
              "      <th>isFraud</th>\n",
              "    </tr>\n",
              "  </thead>\n",
              "  <tbody>\n",
              "    <tr>\n",
              "      <th>0</th>\n",
              "      <td>3663549</td>\n",
              "      <td>0</td>\n",
              "    </tr>\n",
              "    <tr>\n",
              "      <th>1</th>\n",
              "      <td>3663550</td>\n",
              "      <td>0</td>\n",
              "    </tr>\n",
              "    <tr>\n",
              "      <th>2</th>\n",
              "      <td>3663551</td>\n",
              "      <td>0</td>\n",
              "    </tr>\n",
              "    <tr>\n",
              "      <th>3</th>\n",
              "      <td>3663552</td>\n",
              "      <td>0</td>\n",
              "    </tr>\n",
              "    <tr>\n",
              "      <th>4</th>\n",
              "      <td>3663553</td>\n",
              "      <td>0</td>\n",
              "    </tr>\n",
              "  </tbody>\n",
              "</table>\n",
              "</div>"
            ],
            "text/plain": [
              "   TransactionID  isFraud\n",
              "0        3663549        0\n",
              "1        3663550        0\n",
              "2        3663551        0\n",
              "3        3663552        0\n",
              "4        3663553        0"
            ]
          },
          "metadata": {
            "tags": []
          },
          "execution_count": 26
        }
      ]
    },
    {
      "cell_type": "code",
      "metadata": {
        "id": "_eFBI56RaS2B",
        "colab_type": "code",
        "colab": {
          "base_uri": "https://localhost:8080/",
          "height": 317
        },
        "outputId": "29e49d62-3134-4064-9b9f-744bbe1710d8"
      },
      "source": [
        "fpr, tpr, thresholds = roc_curve(y_test, y_testPredict)\n",
        "roc_auc = auc(fpr, tpr)\n",
        "\n",
        "label = 'Transaction Fraud DetectionAUC' + ' {0:.2f}'.format(roc_auc)\n",
        "plt.plot(fpr, tpr, c = 'g', label = label, linewidth = 4)\n",
        "plt.xlabel('False Positive Rate', fontsize = 16)\n",
        "plt.ylabel('True Positive Rate', fontsize = 16)\n",
        "plt.title('Transaction Fraud Detection', fontsize = 16)\n",
        "plt.legend(loc = 'lower right', fontsize = 10)"
      ],
      "execution_count": 27,
      "outputs": [
        {
          "output_type": "execute_result",
          "data": {
            "text/plain": [
              "<matplotlib.legend.Legend at 0x7f63177fb5f8>"
            ]
          },
          "metadata": {
            "tags": []
          },
          "execution_count": 27
        },
        {
          "output_type": "display_data",
          "data": {
            "image/png": "[encoded data removed]",
            "text/plain": [
              "<Figure size 432x288 with 1 Axes>"
            ]
          },
          "metadata": {
            "tags": []
          }
        }
      ]
    },
    {
      "cell_type": "markdown",
      "metadata": {
        "id": "cfihEl4DOsHj",
        "colab_type": "text"
      },
      "source": [
        "Prediction results are saved and upload on Kaggle"
      ]
    },
    {
      "cell_type": "code",
      "metadata": {
        "id": "qjZeMEu1OsHg",
        "colab_type": "code",
        "colab": {}
      },
      "source": [
        "# TODO: code for your final model\n",
        "\n",
        "\n",
        "Predictions1.to_csv('Predictions1.csv', index=False)\n",
        "!cp Predictions1.csv drive/My\\ Drive/"
      ],
      "execution_count": 0,
      "outputs": []
    },
    {
      "cell_type": "markdown",
      "metadata": {
        "id": "KufrnkaOOsHl",
        "colab_type": "text"
      },
      "source": [
        "## Part 7 - Final Result"
      ]
    },
    {
      "cell_type": "markdown",
      "metadata": {
        "id": "6YPHeuBKOsHo",
        "colab_type": "text"
      },
      "source": [
        "Report the rank, score, number of entries, for your highest rank. Include a snapshot of your best score on the leaderboard as confirmation. Be sure to provide a link to your Kaggle profile. Make sure to include a screenshot of your ranking. Make sure your profile includes your face and affiliation with SBU."
      ]
    },
    {
      "cell_type": "markdown",
      "metadata": {
        "id": "2lQ_dXPROsHq",
        "colab_type": "text"
      },
      "source": [
        "Kaggle Link:https://www.kaggle.com/aveenakott"
      ]
    },
    {
      "cell_type": "markdown",
      "metadata": {
        "id": "V6OoksZKOsHr",
        "colab_type": "text"
      },
      "source": [
        "Highest Rank: 5777"
      ]
    },
    {
      "cell_type": "markdown",
      "metadata": {
        "id": "LwtxJ_kcOsH3",
        "colab_type": "text"
      },
      "source": [
        "*Score*: 0.5190"
      ]
    },
    {
      "cell_type": "markdown",
      "metadata": {
        "id": "TKveApPTOsH5",
        "colab_type": "text"
      },
      "source": [
        "Number of entries: 1"
      ]
    },
    {
      "cell_type": "markdown",
      "metadata": {
        "id": "1Nq1LT5FOsH6",
        "colab_type": "text"
      },
      "source": [
        "INCLUDE IMAGE OF YOUR KAGGLE RANKING\n",
        "\n",
        "![Rank5777](https://drive.google.com/uc?id=1yWI73gY-V0QNN7NJafmxeF8W1AZ4EHJ7)\n"
      ]
    }
  ]
}